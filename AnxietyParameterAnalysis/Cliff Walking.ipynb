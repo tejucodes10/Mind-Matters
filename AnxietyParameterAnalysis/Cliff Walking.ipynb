{
 "cells": [
  {
   "cell_type": "code",
   "execution_count": 1,
   "id": "205f77e5",
   "metadata": {},
   "outputs": [],
   "source": [
    "import numpy as np\n",
    "import matplotlib.pyplot as plt"
   ]
  },
  {
   "cell_type": "code",
   "execution_count": 2,
   "id": "007a2d8a",
   "metadata": {},
   "outputs": [],
   "source": [
    "# Define parameters\n",
    "height = 4\n",
    "width = 12\n",
    "start = (height - 1, 0)\n",
    "goal = (height - 1, width - 1)\n",
    "cliff = [(height - 1, i) for i in range(1, width - 1)]\n",
    "actions = [(0, 1), (0, -1), (-1, 0), (1, 0)]  # right, left, up, down"
   ]
  },
  {
   "cell_type": "code",
   "execution_count": 3,
   "id": "af6425f7",
   "metadata": {},
   "outputs": [],
   "source": [
    "# Initialize variables\n",
    "V = np.zeros((height, width))\n",
    "policy = np.zeros((height, width), dtype=int)"
   ]
  },
  {
   "cell_type": "code",
   "execution_count": 4,
   "id": "265e3720",
   "metadata": {},
   "outputs": [],
   "source": [
    "# Initialize parameters\n",
    "gamma = 0.9  # discount factor\n",
    "alpha = 0.1  # learning rate\n",
    "epsilon = 0.1  # exploration rate"
   ]
  },
  {
   "cell_type": "code",
   "execution_count": 5,
   "id": "6f75f477",
   "metadata": {},
   "outputs": [],
   "source": [
    "# Define reward function\n",
    "R = -1 * np.ones((height, width))\n",
    "for c in cliff:\n",
    "    R[c] = -100\n",
    "R[goal] = 0"
   ]
  },
  {
   "cell_type": "code",
   "execution_count": 6,
   "id": "b79ed945",
   "metadata": {},
   "outputs": [],
   "source": [
    "# Q-learning algorithm\n",
    "num_episodes = 1000\n",
    "for _ in range(num_episodes):\n",
    "    state = start\n",
    "    while state != goal:\n",
    "        if np.random.rand() < epsilon:\n",
    "            action = np.random.choice(len(actions))\n",
    "        else:\n",
    "            action = policy[state]\n",
    "\n",
    "        next_state = (state[0] + actions[action][0], state[1] + actions[action][1])\n",
    "        next_state = (max(0, min(next_state[0], height - 1)), max(0, min(next_state[1], width - 1)))\n",
    "        reward = R[next_state]\n",
    "        V[state] += alpha * (reward + gamma * np.max(V[next_state]) - V[state])\n",
    "        state = next_state"
   ]
  },
  {
   "cell_type": "code",
   "execution_count": 7,
   "id": "aea7664b",
   "metadata": {},
   "outputs": [],
   "source": [
    "# Determine optimal policy\n",
    "for i in range(height):\n",
    "    for j in range(width):\n",
    "        if (i, j) == goal:\n",
    "            continue\n",
    "        max_reward = float(\"-inf\")\n",
    "        optimal_action = -1\n",
    "        for a, action in enumerate(actions):\n",
    "            next_state = (i + action[0], j + action[1])\n",
    "            next_state = (max(0, min(next_state[0], height - 1)), max(0, min(next_state[1], width - 1)))\n",
    "            if R[next_state] > max_reward:\n",
    "                max_reward = R[next_state]\n",
    "                optimal_action = a\n",
    "        policy[i, j] = optimal_action"
   ]
  },
  {
   "cell_type": "code",
   "execution_count": 8,
   "id": "f098259a",
   "metadata": {},
   "outputs": [
    {
     "data": {
      "image/png": "[encoded data removed]",
      "text/plain": [
       "<Figure size 432x288 with 2 Axes>"
      ]
     },
     "metadata": {
      "needs_background": "light"
     },
     "output_type": "display_data"
    }
   ],
   "source": [
    "# Plotting\n",
    "plt.imshow(V, cmap='viridis', origin='lower')\n",
    "plt.colorbar(label='Value')\n",
    "plt.title('Cliff Climbing - Value Function')\n",
    "plt.xlabel('Columns')\n",
    "plt.ylabel('Rows')\n",
    "plt.show()"
   ]
  },
  {
   "cell_type": "code",
   "execution_count": 9,
   "id": "0f8dfadf",
   "metadata": {},
   "outputs": [
    {
     "data": {
      "image/png": "[encoded data removed]",
      "text/plain": [
       "<Figure size 432x288 with 2 Axes>"
      ]
     },
     "metadata": {
      "needs_background": "light"
     },
     "output_type": "display_data"
    }
   ],
   "source": [
    "plt.imshow(policy, cmap='viridis', origin='lower')\n",
    "plt.colorbar(label='Action (0: right, 1: left, 2: up, 3: down)')\n",
    "plt.title('Cliff Climbing - Optimal Policy')\n",
    "plt.xlabel('Columns')\n",
    "plt.ylabel('Rows')\n",
    "plt.show()"
   ]
  },
  {
   "cell_type": "markdown",
   "id": "5d110e54",
   "metadata": {},
   "source": [
    "This code implements Q-learning to find the optimal policy for navigating a cliff environment. It learns the optimal policy and value function through episodes of exploration and exploitation. Finally, it visualizes the learned value function and optimal policy."
   ]
  }
 ],
 "metadata": {
  "kernelspec": {
   "display_name": "Python 3 (ipykernel)",
   "language": "python",
   "name": "python3"
  },
  "language_info": {
   "codemirror_mode": {
    "name": "ipython",
    "version": 3
   },
   "file_extension": ".py",
   "mimetype": "text/x-python",
   "name": "python",
   "nbconvert_exporter": "python",
   "pygments_lexer": "ipython3",
   "version": "3.9.7"
  }
 },
 "nbformat": 4,
 "nbformat_minor": 5
}
